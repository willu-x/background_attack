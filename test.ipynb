{
 "cells": [
  {
   "cell_type": "code",
   "execution_count": 4,
   "metadata": {},
   "outputs": [],
   "source": [
    "from torch import nn\n",
    "import torch\n",
    "import copy\n",
    "import os\n",
    "import random\n",
    "import numpy as np\n",
    "from torchvision import datasets, transforms"
   ]
  },
  {
   "cell_type": "code",
   "execution_count": 2,
   "metadata": {},
   "outputs": [
    {
     "data": {
      "text/plain": [
       "{'wi': 10}"
      ]
     },
     "execution_count": 2,
     "metadata": {},
     "output_type": "execute_result"
    }
   ],
   "source": [
    "writer_dic = {}\n",
    "writer_dic['wi'] = 10\n",
    "writer_dic"
   ]
  },
  {
   "cell_type": "code",
   "execution_count": 4,
   "metadata": {},
   "outputs": [
    {
     "data": {
      "text/plain": [
       "'local'"
      ]
     },
     "execution_count": 4,
     "metadata": {},
     "output_type": "execute_result"
    }
   ],
   "source": [
    "x = \"123456_local\"\n",
    "x[-5:]"
   ]
  },
  {
   "cell_type": "code",
   "execution_count": 3,
   "metadata": {},
   "outputs": [],
   "source": [
    "train_dataset = datasets.EMNIST('./data', split=\"digits\", train=True, download=True,\n",
    "                                   transform=transforms.Compose([\n",
    "                                       transforms.RandomCrop(28, padding=2),\n",
    "                                       transforms.ToTensor(),\n",
    "                                       transforms.Normalize((0.1307,), (0.3081,))\n",
    "                                   ]))\n",
    "\n",
    "test_dataset = datasets.EMNIST('./data', split=\"digits\", train=False, download=True,\n",
    "                                   transform=transforms.Compose([\n",
    "                                       transforms.ToTensor(),\n",
    "                                       transforms.Normalize((0.1307,), (0.3081,))\n",
    "                                   ]))"
   ]
  },
  {
   "cell_type": "code",
   "execution_count": 3,
   "metadata": {},
   "outputs": [
    {
     "data": {
      "text/plain": [
       "Dataset EMNIST\n",
       "    Number of datapoints: 240000\n",
       "    Root location: ./data\n",
       "    Split: Train\n",
       "    StandardTransform\n",
       "Transform: Compose(\n",
       "               RandomCrop(size=(28, 28), padding=2)\n",
       "               ToTensor()\n",
       "               Normalize(mean=(0.1307,), std=(0.3081,))\n",
       "           )"
      ]
     },
     "execution_count": 3,
     "metadata": {},
     "output_type": "execute_result"
    }
   ],
   "source": [
    "train_dataset\n",
    "# Dataset EMNIST\n",
    "#     Number of datapoints: 240000\n",
    "#     Root location: ./data\n",
    "#     Split: Train\n",
    "#     StandardTransform\n",
    "# Transform: Compose(\n",
    "#                RandomCrop(size=(28, 28), padding=2)\n",
    "#                ToTensor()\n",
    "#                Normalize(mean=(0.1307,), std=(0.3081,))\n",
    "#            )"
   ]
  },
  {
   "cell_type": "code",
   "execution_count": 20,
   "metadata": {},
   "outputs": [
    {
     "data": {
      "text/plain": [
       "Dataset EMNIST\n",
       "    Number of datapoints: 40000\n",
       "    Root location: ./data\n",
       "    Split: Test\n",
       "    StandardTransform\n",
       "Transform: Compose(\n",
       "               ToTensor()\n",
       "               Normalize(mean=(0.1307,), std=(0.3081,))\n",
       "           )"
      ]
     },
     "execution_count": 20,
     "metadata": {},
     "output_type": "execute_result"
    }
   ],
   "source": [
    "test_dataset\n",
    "# Dataset EMNIST\n",
    "#     Number of datapoints: 40000\n",
    "#     Root location: ./data\n",
    "#     Split: Test\n",
    "#     StandardTransform\n",
    "# Transform: Compose(\n",
    "#                ToTensor()\n",
    "#                Normalize(mean=(0.1307,), std=(0.3081,))\n",
    "#            )"
   ]
  },
  {
   "cell_type": "code",
   "execution_count": 7,
   "metadata": {},
   "outputs": [
    {
     "data": {
      "text/plain": [
       "tensor([[[-0.5234, -0.7344,  1.3374, -0.5234, -0.7344,  1.3374, -0.5234,\n",
       "          -0.7344,  1.3374],\n",
       "         [-0.4120,  2.4138, -0.1016, -0.4120,  2.4138, -0.1016, -0.4120,\n",
       "           2.4138, -0.1016]],\n",
       "\n",
       "        [[ 0.1074,  0.3094, -0.4569,  0.1074,  0.3094, -0.4569,  0.1074,\n",
       "           0.3094, -0.4569],\n",
       "         [ 0.5739, -1.0226, -1.1109,  0.5739, -1.0226, -1.1109,  0.5739,\n",
       "          -1.0226, -1.1109]]])"
      ]
     },
     "execution_count": 7,
     "metadata": {},
     "output_type": "execute_result"
    }
   ],
   "source": [
    "x = torch.randn(2,2, 3)\n",
    "x\n",
    "torch.cat((x, x, x), 0)\n",
    "torch.cat((x, x, x), 2)"
   ]
  },
  {
   "cell_type": "code",
   "execution_count": 15,
   "metadata": {},
   "outputs": [
    {
     "name": "stdout",
     "output_type": "stream",
     "text": [
      "tensor([0, 9, 7, 9, 2, 2, 3, 1, 0, 0, 6, 4, 9, 3, 8, 2, 0, 8, 2, 0, 5, 4, 9, 8,\n",
      "        0, 6, 1, 8, 3, 7, 9, 9, 6, 3, 7, 5, 7, 3, 1, 9, 5, 8, 5, 4, 6, 2, 9, 6,\n",
      "        3, 6, 2, 1, 0, 1, 5, 8, 4, 3, 0, 0, 7, 3, 7, 5])\n",
      "torch.Size([64])\n"
     ]
    },
    {
     "data": {
      "image/png": "[encoded data removed]",
      "text/plain": [
       "<Figure size 640x480 with 1 Axes>"
      ]
     },
     "metadata": {},
     "output_type": "display_data"
    }
   ],
   "source": [
    "from torch.utils.data import DataLoader\n",
    "\n",
    "batch_size = 64\n",
    "# 读取测试数据，train=True读取训练数据；train=False读取测试数据\n",
    "test_loader = DataLoader(test_dataset, batch_size=batch_size, shuffle=False)\n",
    "\n",
    "examples = enumerate(test_loader) #img&label\n",
    "batch_idx, (imgs, labels) = next(examples) #读取数据,batch_idx从0开始\n",
    "\n",
    "print(labels) #读取标签数据\n",
    "print(labels.shape) #torch.Size([32])，因为batch_size为32\n",
    "\n",
    "#-------------------------------数据显示--------------------------------------------\n",
    "#显示6张图片\n",
    "import matplotlib.pyplot as plt\n",
    "fig = plt.figure()\n",
    "plt.tight_layout()\n",
    "plt.imshow(imgs[40][0], cmap='gray', interpolation='none')#子显示\n",
    "plt.title(\"Ground Truth: {}\".format(labels[10])) #显示title\n",
    "plt.xticks([])\n",
    "plt.yticks([])\n",
    "plt.show()\n"
   ]
  },
  {
   "cell_type": "code",
   "execution_count": 5,
   "metadata": {},
   "outputs": [
    {
     "name": "stdout",
     "output_type": "stream",
     "text": [
      "Downloading http://yann.lecun.com/exdb/mnist/train-images-idx3-ubyte.gz\n"
     ]
    },
    {
     "name": "stderr",
     "output_type": "stream",
     "text": [
      "0.3%"
     ]
    },
    {
     "name": "stdout",
     "output_type": "stream",
     "text": [
      "Downloading http://yann.lecun.com/exdb/mnist/train-images-idx3-ubyte.gz to ./data/MNIST/raw/train-images-idx3-ubyte.gz\n"
     ]
    },
    {
     "name": "stderr",
     "output_type": "stream",
     "text": [
      "100.0%\n"
     ]
    },
    {
     "name": "stdout",
     "output_type": "stream",
     "text": [
      "Extracting ./data/MNIST/raw/train-images-idx3-ubyte.gz to ./data/MNIST/raw\n",
      "\n",
      "Downloading http://yann.lecun.com/exdb/mnist/train-labels-idx1-ubyte.gz\n",
      "Downloading http://yann.lecun.com/exdb/mnist/train-labels-idx1-ubyte.gz to ./data/MNIST/raw/train-labels-idx1-ubyte.gz\n"
     ]
    },
    {
     "name": "stderr",
     "output_type": "stream",
     "text": [
      "100.0%\n"
     ]
    },
    {
     "name": "stdout",
     "output_type": "stream",
     "text": [
      "Extracting ./data/MNIST/raw/train-labels-idx1-ubyte.gz to ./data/MNIST/raw\n",
      "\n",
      "Downloading http://yann.lecun.com/exdb/mnist/t10k-images-idx3-ubyte.gz\n",
      "Downloading http://yann.lecun.com/exdb/mnist/t10k-images-idx3-ubyte.gz to ./data/MNIST/raw/t10k-images-idx3-ubyte.gz\n"
     ]
    },
    {
     "name": "stderr",
     "output_type": "stream",
     "text": [
      "100.0%\n"
     ]
    },
    {
     "name": "stdout",
     "output_type": "stream",
     "text": [
      "Extracting ./data/MNIST/raw/t10k-images-idx3-ubyte.gz to ./data/MNIST/raw\n",
      "\n",
      "Downloading http://yann.lecun.com/exdb/mnist/t10k-labels-idx1-ubyte.gz\n"
     ]
    },
    {
     "name": "stderr",
     "output_type": "stream",
     "text": [
      "100.0%"
     ]
    },
    {
     "name": "stdout",
     "output_type": "stream",
     "text": [
      "Downloading http://yann.lecun.com/exdb/mnist/t10k-labels-idx1-ubyte.gz to ./data/MNIST/raw/t10k-labels-idx1-ubyte.gz\n",
      "Extracting ./data/MNIST/raw/t10k-labels-idx1-ubyte.gz to ./data/MNIST/raw\n",
      "\n"
     ]
    },
    {
     "name": "stderr",
     "output_type": "stream",
     "text": [
      "\n"
     ]
    },
    {
     "name": "stdout",
     "output_type": "stream",
     "text": [
      "tensor([7, 2, 1, 0, 4, 1, 4, 9, 5, 9, 0, 6, 9, 0, 1, 5, 9, 7, 3, 4, 9, 6, 6, 5,\n",
      "        4, 0, 7, 4, 0, 1, 3, 1])\n",
      "torch.Size([32])\n"
     ]
    },
    {
     "data": {
      "image/png": "[encoded data removed]",
      "text/plain": [
       "<Figure size 640x480 with 6 Axes>"
      ]
     },
     "metadata": {},
     "output_type": "display_data"
    }
   ],
   "source": [
    "import torch\n",
    "from torch import nn, optim\n",
    "from torch.utils.data import DataLoader\n",
    "from torchvision import datasets, transforms\n",
    "\n",
    "data_tf = transforms.Compose(\n",
    "    [transforms.ToTensor(),\n",
    "     transforms.Normalize([0.5], [0.5])])\n",
    "\n",
    "batch_size = 32\n",
    "# 读取测试数据，train=True读取训练数据；train=False读取测试数据\n",
    "train_dataset = datasets.MNIST(root='./data', train=True, transform=data_tf, download=True)\n",
    "test_dataset = datasets.MNIST(root='./data', train=False, transform=data_tf)\n",
    "test_loader = DataLoader(test_dataset, batch_size=batch_size, shuffle=False)\n",
    "\n",
    "examples = enumerate(test_loader) #img&label\n",
    "batch_idx, (imgs, labels) = next(examples) #读取数据,batch_idx从0开始\n",
    "\n",
    "print(labels) #读取标签数据\n",
    "print(labels.shape) #torch.Size([32])，因为batch_size为32\n",
    "\n",
    "#-------------------------------数据显示--------------------------------------------\n",
    "#显示6张图片\n",
    "import matplotlib.pyplot as plt\n",
    "fig = plt.figure()\n",
    "for i in range(10):\n",
    "  plt.subplot(2,5,i+1)\n",
    "  plt.tight_layout()\n",
    "  plt.imshow(imgs[i][0], cmap='gray', interpolation='none')#子显示\n",
    "  plt.title(\"Ground Truth: {}\".format(labels[i])) #显示title\n",
    "  plt.xticks([])\n",
    "  plt.yticks([])\n",
    "\n",
    "plt.show()\n"
   ]
  }
 ],
 "metadata": {
  "kernelspec": {
   "display_name": "py39",
   "language": "python",
   "name": "python3"
  },
  "language_info": {
   "codemirror_mode": {
    "name": "ipython",
    "version": 3
   },
   "file_extension": ".py",
   "mimetype": "text/x-python",
   "name": "python",
   "nbconvert_exporter": "python",
   "pygments_lexer": "ipython3",
   "version": "3.9.16"
  },
  "orig_nbformat": 4
 },
 "nbformat": 4,
 "nbformat_minor": 2
}
